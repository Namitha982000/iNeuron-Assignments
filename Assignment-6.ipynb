{
 "cells": [
  {
   "cell_type": "markdown",
   "id": "4830159b",
   "metadata": {},
   "source": [
    "# 1. Write a function which will try to find out len of string without using an inbuilt len function"
   ]
  },
  {
   "cell_type": "code",
   "execution_count": 1,
   "id": "d3f3476e",
   "metadata": {},
   "outputs": [
    {
     "name": "stdout",
     "output_type": "stream",
     "text": [
      "enter a string: namitha\n",
      "the lenghth of the string is 7\n"
     ]
    }
   ],
   "source": [
    "a = input(\"enter a string: \")\n",
    "\n",
    "def length(a):\n",
    "    b = 0\n",
    "    for i in a:\n",
    "        b = b + 1\n",
    "    return(b)\n",
    "\n",
    "print(f\"the lenghth of the string is {length(a)}\")"
   ]
  },
  {
   "cell_type": "markdown",
   "id": "13d51e5c",
   "metadata": {},
   "source": [
    "# 2. Write a function which will be able to print an index of list element without using an index function"
   ]
  },
  {
   "cell_type": "code",
   "execution_count": 2,
   "id": "4c62dbff",
   "metadata": {},
   "outputs": [
    {
     "name": "stdout",
     "output_type": "stream",
     "text": [
      "index of iNeuron is 3\n"
     ]
    }
   ],
   "source": [
    "def index(lst,num):\n",
    "    for i in range(len(lst)):\n",
    "        if num == lst[i]:\n",
    "            print(f\"index of {num} is {i}\")\n",
    "            \n",
    "lst = [1, 2, 3, \"iNeuron\"]\n",
    "num = \"iNeuron\"\n",
    "\n",
    "index(lst,num)"
   ]
  },
  {
   "cell_type": "markdown",
   "id": "65f29d0c",
   "metadata": {},
   "source": [
    "# 3. Write a function which will be able to print an IP address of your system\n"
   ]
  },
  {
   "cell_type": "code",
   "execution_count": null,
   "id": "7fbeecb3",
   "metadata": {},
   "outputs": [],
   "source": [
    "import socket\n",
    "\n",
    "def ipadd():\n",
    "    hostname = socket.gethostname()\n",
    "    ip_address = socket.gethostbyname(hostname)\n",
    "    print(f\"computer ip address is {ip_address})\n",
    "    \n",
    "ipadd()"
   ]
  },
  {
   "cell_type": "markdown",
   "id": "5a4943e9",
   "metadata": {},
   "source": [
    "# 4. Write a function which will shutdown your system"
   ]
  },
  {
   "cell_type": "code",
   "execution_count": 3,
   "id": "b4c7df6a",
   "metadata": {},
   "outputs": [
    {
     "name": "stdout",
     "output_type": "stream",
     "text": [
      "Do you want to shutdown your computer ? (YES / NO) no\n"
     ]
    }
   ],
   "source": [
    "import os\n",
    "\n",
    "shutdown = input(\"Do you want to shutdown your computer ? (YES / NO) \")\n",
    "shutdown = shutdown.lower()\n",
    "\n",
    "def shut(a):\n",
    "        if shutdown == \"no\":\n",
    "            exit()\n",
    "        else:\n",
    "            os.system(\"shutdown /s /t 1\")\n",
    "            \n",
    "shut(shutdown)\n"
   ]
  },
  {
   "cell_type": "markdown",
   "id": "34c2fc7b",
   "metadata": {},
   "source": [
    "# 5. Write a function which will take input as a list with any kind of numeric value and give an out as a multiplication of all the numeric data.\n",
    " \n",
    " ## l = [3.5, 6.56, 4, 5, \"sudh\", \"ineuron\", \"fsda bootcamp 2.0\"]\n"
   ]
  },
  {
   "cell_type": "code",
   "execution_count": 8,
   "id": "bfdf573d",
   "metadata": {},
   "outputs": [
    {
     "data": {
      "text/plain": [
       "459.19999999999993"
      ]
     },
     "execution_count": 8,
     "metadata": {},
     "output_type": "execute_result"
    }
   ],
   "source": [
    "def lst(l):\n",
    "    mul = 1\n",
    "\n",
    "    for i in l:\n",
    "        if type(i) == str:\n",
    "            continue\n",
    "            \n",
    "        else:\n",
    "            mul = mul*i\n",
    "    return mul\n",
    "\n",
    "\n",
    "l = [3.5, 6.56, 4, 5, \"sudh\", \"ineuron\", \"fsda bootcamp 2.0\"]\n",
    "lst(l)"
   ]
  },
  {
   "cell_type": "markdown",
   "id": "870ad47a",
   "metadata": {},
   "source": [
    "# 6. Write a function which will be able to read all the mails\n"
   ]
  },
  {
   "cell_type": "code",
   "execution_count": null,
   "id": "4ffa78ce",
   "metadata": {},
   "outputs": [],
   "source": [
    "  "
   ]
  },
  {
   "cell_type": "markdown",
   "id": "5aaa2f19",
   "metadata": {},
   "source": [
    "# 7. Write a function which will be able to send a mail to anyone"
   ]
  },
  {
   "cell_type": "code",
   "execution_count": null,
   "id": "37092309",
   "metadata": {},
   "outputs": [],
   "source": []
  },
  {
   "cell_type": "markdown",
   "id": "525ff6ec",
   "metadata": {},
   "source": [
    "# 8. Write a function which will be able to read a doc/word file from your system\n"
   ]
  },
  {
   "cell_type": "code",
   "execution_count": 39,
   "id": "93cb6bfc",
   "metadata": {},
   "outputs": [
    {
     "name": "stdout",
     "output_type": "stream",
     "text": [
      "[\"India, officially the\\xa0Republic of India\\xa0(:\\xa0Bhārat Gaṇarājya),\\xa0is a country in\\xa0. It is the\\xa0\\xa0by area, the\\xa0\\xa0country, and the most populous\\xa0\\xa0in the world. Bounded by the\\xa0\\xa0on the south, the\\xa0\\xa0on the southwest, and the\\xa0\\xa0on the southeast, it shares land borders with\\xa0\\xa0to the west;\\xa0,\\xa0, and\\xa0\\xa0to the north; and\\xa0\\xa0and\\xa0\\xa0to the east. In the Indian Ocean, India is in the vicinity of\\xa0\\xa0and the\\xa0; its\\xa0\\xa0share a maritime border with\\xa0, Myanmar, and\\xa0. The nation's capital city is\\xa0.\"]\n"
     ]
    }
   ],
   "source": [
    "import docx\n",
    "\n",
    "path = r\"D:\\test\\test.docx\"\n",
    "\n",
    "def docx1(path):\n",
    "    doc = docx.Document(path)\n",
    "    result = [p.text for p in doc.paragraphs]\n",
    "    print(result)\n",
    "docx1(path)"
   ]
  }
 ],
 "metadata": {
  "kernelspec": {
   "display_name": "Python 3 (ipykernel)",
   "language": "python",
   "name": "python3"
  },
  "language_info": {
   "codemirror_mode": {
    "name": "ipython",
    "version": 3
   },
   "file_extension": ".py",
   "mimetype": "text/x-python",
   "name": "python",
   "nbconvert_exporter": "python",
   "pygments_lexer": "ipython3",
   "version": "3.9.12"
  }
 },
 "nbformat": 4,
 "nbformat_minor": 5
}
